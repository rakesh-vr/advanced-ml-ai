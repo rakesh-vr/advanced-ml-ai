{
 "cells": [
  {
   "cell_type": "markdown",
   "id": "a4ccbb5d-13b0-4295-9aa3-0fc8fd01076b",
   "metadata": {},
   "source": [
    "# Walking / PEdistrain Detection"
   ]
  },
  {
   "cell_type": "code",
   "execution_count": null,
   "id": "00d00155-16a2-451e-8368-1b460dd77546",
   "metadata": {},
   "outputs": [],
   "source": [
    "import numpy as np\n",
    "import cv2\n",
    "full_body_classifier = cv2.CascadeClassifier('haarcascade_fullbody.xml')\n",
    "cap = cv2.VideoCapture('walking.avi')\n",
    "while cap.isOpened():\n",
    "    ret, frame = cap.read()\n",
    "    gray = cv2.cvtColor(frame, cv2.COLOR_BGR2GRAY)\n",
    "    full_body = full_body_classifier.detectMultiScale(gray, 1.2,3)\n",
    "    for(x,y,w,h) in full_body:\n",
    "        cv2.rectangle(frame, (x,y), (x+w, y+h), (0,0,255), 1)\n",
    "        cv2.imshow('walking/pedestrain detection', frame)\n",
    "\n",
    "        if(cv2.waitKey(1) == 13):\n",
    "            break\n",
    "\n",
    "cap.release()\n",
    "cv2.destroyAllWindows()"
   ]
  },
  {
   "cell_type": "code",
   "execution_count": null,
   "id": "6f1cb784-fe41-4f51-944d-faff8bfffd35",
   "metadata": {},
   "outputs": [],
   "source": []
  },
  {
   "cell_type": "code",
   "execution_count": null,
   "id": "49532b58-df3b-47d4-a954-731c0972ac66",
   "metadata": {},
   "outputs": [],
   "source": []
  },
  {
   "cell_type": "code",
   "execution_count": null,
   "id": "640279e4-1dc1-4a9d-b9cc-62a533360b64",
   "metadata": {},
   "outputs": [],
   "source": [
    "import numpy as np\n",
    "import cv2\n",
    "full_body_classifier = cv2.CascadeClassifier('cars.xml')\n",
    "cap = cv2.VideoCapture('cars.avi')\n",
    "while cap.isOpened():\n",
    "    ret, frame = cap.read()\n",
    "    gray = cv2.cvtColor(frame, cv2.COLOR_BGR2GRAY)\n",
    "    full_body = full_body_classifier.detectMultiScale(gray, 1.2,3)\n",
    "    for(x,y,w,h) in full_body:\n",
    "        cv2.rectangle(frame, (x,y), (x+w, y+h), (0,0,255), 1)\n",
    "        cv2.imshow('walking/pedestrain detection', frame)\n",
    "\n",
    "        if(cv2.waitKey(1) == 13):\n",
    "            break\n",
    "\n",
    "cap.release()\n",
    "cv2.destroyAllWindows()"
   ]
  },
  {
   "cell_type": "code",
   "execution_count": null,
   "id": "8913c2da-0293-4a1c-9e6c-f050d88cbd97",
   "metadata": {},
   "outputs": [],
   "source": []
  },
  {
   "cell_type": "code",
   "execution_count": null,
   "id": "e418d781-25c0-416a-9072-d01a73bd5b52",
   "metadata": {},
   "outputs": [],
   "source": []
  },
  {
   "cell_type": "code",
   "execution_count": null,
   "id": "f8af9a8c-4cab-41a7-bed7-49d2247c0b89",
   "metadata": {},
   "outputs": [],
   "source": []
  },
  {
   "cell_type": "code",
   "execution_count": null,
   "id": "4fe3163c-e3e6-4c61-888d-1734e7c2e5c6",
   "metadata": {},
   "outputs": [],
   "source": []
  },
  {
   "cell_type": "code",
   "execution_count": null,
   "id": "30a86455-3204-45e0-8624-e6987f76d97f",
   "metadata": {},
   "outputs": [],
   "source": []
  },
  {
   "cell_type": "code",
   "execution_count": null,
   "id": "534a50e8-6841-40fb-a2ab-3941e5e36151",
   "metadata": {},
   "outputs": [],
   "source": []
  },
  {
   "cell_type": "code",
   "execution_count": null,
   "id": "96c4fd38-8e70-4dfb-b6cd-82e6944ff0c0",
   "metadata": {},
   "outputs": [],
   "source": []
  }
 ],
 "metadata": {
  "kernelspec": {
   "display_name": "Python 3 (ipykernel)",
   "language": "python",
   "name": "python3"
  },
  "language_info": {
   "codemirror_mode": {
    "name": "ipython",
    "version": 3
   },
   "file_extension": ".py",
   "mimetype": "text/x-python",
   "name": "python",
   "nbconvert_exporter": "python",
   "pygments_lexer": "ipython3",
   "version": "3.11.7"
  }
 },
 "nbformat": 4,
 "nbformat_minor": 5
}
