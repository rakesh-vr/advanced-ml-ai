{
 "cells": [
  {
   "cell_type": "markdown",
   "id": "5d6fd204-738c-491b-9dc1-dead299eedb3",
   "metadata": {},
   "source": [
    "# Regular Expressions = RegEx"
   ]
  },
  {
   "cell_type": "markdown",
   "id": "8c3e5d28-2e37-476e-b59b-4cfe6c4e8f99",
   "metadata": {},
   "source": [
    "# # re.match(), re.search(), re.findall(), re.sub()"
   ]
  },
  {
   "cell_type": "code",
   "execution_count": 2,
   "id": "0a6bd236-5d5e-4874-a112-d359e923d920",
   "metadata": {},
   "outputs": [
    {
     "name": "stdout",
     "output_type": "stream",
     "text": [
      "<re.Match object; span=(0, 8), match='Learnbay'>\n",
      "None\n"
     ]
    }
   ],
   "source": [
    "import re\n",
    "result = re.match('Learnbay', 'Learnbay teached NLP')\n",
    "print(result)\n",
    "\n",
    "\n",
    "result1 = re.match('teaches', 'Learnbay teaches NLP')\n",
    "print(result1)"
   ]
  },
  {
   "cell_type": "code",
   "execution_count": 3,
   "id": "65bba150-716d-463b-8705-5fe1d702231c",
   "metadata": {},
   "outputs": [
    {
     "name": "stdout",
     "output_type": "stream",
     "text": [
      "Learnbay\n"
     ]
    }
   ],
   "source": [
    "print(result.group())"
   ]
  },
  {
   "cell_type": "code",
   "execution_count": null,
   "id": "f6a6eb82-3132-4a2c-9e2d-86bbbe117ef5",
   "metadata": {},
   "outputs": [],
   "source": [
    "print(result"
   ]
  },
  {
   "cell_type": "code",
   "execution_count": 4,
   "id": "0082c899-ef03-40db-bad1-71842db2b23e",
   "metadata": {},
   "outputs": [
    {
     "name": "stdout",
     "output_type": "stream",
     "text": [
      "<re.Match object; span=(0, 8), match='Learnbay'>\n"
     ]
    }
   ],
   "source": [
    "result = re.search('Learnbay','Learnbay teached NLP')\n",
    "print(result)"
   ]
  },
  {
   "cell_type": "code",
   "execution_count": 5,
   "id": "7f9db46c-12ea-4957-9f30-e71f92289f8e",
   "metadata": {},
   "outputs": [
    {
     "name": "stdout",
     "output_type": "stream",
     "text": [
      "<re.Match object; span=(9, 16), match='teaches'>\n"
     ]
    }
   ],
   "source": [
    "result1 = re.search('teaches', 'Learnbay teaches NLP')\n",
    "print(result1)"
   ]
  },
  {
   "cell_type": "code",
   "execution_count": 6,
   "id": "47e3ce1a-da7f-4beb-9bfa-d5d1f19db2b7",
   "metadata": {},
   "outputs": [
    {
     "name": "stdout",
     "output_type": "stream",
     "text": [
      "Learnbay\n"
     ]
    }
   ],
   "source": [
    "print(result.group())"
   ]
  },
  {
   "cell_type": "code",
   "execution_count": 7,
   "id": "0c5c1b86-e525-4956-aeb6-3df4e9e00027",
   "metadata": {},
   "outputs": [
    {
     "name": "stdout",
     "output_type": "stream",
     "text": [
      "teaches\n"
     ]
    }
   ],
   "source": [
    "print(result1.group())"
   ]
  },
  {
   "cell_type": "code",
   "execution_count": 10,
   "id": "b3529841-1d9f-48cd-8286-9881d9347d79",
   "metadata": {},
   "outputs": [
    {
     "name": "stdout",
     "output_type": "stream",
     "text": [
      "['founded', 'founded']\n"
     ]
    }
   ],
   "source": [
    "result = re.findall('founded','Andrew NG founded coursera, He also founded deeplearning.ai')\n",
    "print(result)"
   ]
  },
  {
   "cell_type": "code",
   "execution_count": 11,
   "id": "1b4d18cb-8561-41b2-9c05-747ea10cb4cd",
   "metadata": {},
   "outputs": [
    {
     "name": "stdout",
     "output_type": "stream",
     "text": [
      "['teaches', 'teaches']\n"
     ]
    }
   ],
   "source": [
    "result1 = re.findall('teaches', 'Learnbay teaches NLP and also it teaches ML')\n",
    "print(result1)"
   ]
  },
  {
   "cell_type": "code",
   "execution_count": 14,
   "id": "b92a6fa9-5d78-428d-9a31-fea79760e1ba",
   "metadata": {},
   "outputs": [
    {
     "name": "stdout",
     "output_type": "stream",
     "text": [
      "Andrew NGfounded coursera, Andrew NGalso founded deeplearning.ai\n"
     ]
    }
   ],
   "source": [
    "result = re.sub('He ','Andrew NG', 'He founded coursera, He also founded deeplearning.ai')\n",
    "print(result)"
   ]
  },
  {
   "cell_type": "code",
   "execution_count": 16,
   "id": "5f469796-7ea5-4aa1-bc06-810f82621770",
   "metadata": {},
   "outputs": [
    {
     "name": "stdout",
     "output_type": "stream",
     "text": [
      "['bay']\n"
     ]
    }
   ],
   "source": [
    "x = re.findall(r\"bay\\b\", 'Learnbay teaches NLP')\n",
    "print(x)"
   ]
  },
  {
   "cell_type": "code",
   "execution_count": 18,
   "id": "7685993c-99e2-438a-a410-d1843a4b9368",
   "metadata": {},
   "outputs": [
    {
     "name": "stdout",
     "output_type": "stream",
     "text": [
      "['bay', 'bay']\n"
     ]
    }
   ],
   "source": [
    "x = re.findall(\"bay\", 'Learnbay bayteaches NLP')\n",
    "print(x)"
   ]
  },
  {
   "cell_type": "code",
   "execution_count": 23,
   "id": "202b4739-9469-4d40-87e1-e966a2fec949",
   "metadata": {},
   "outputs": [
    {
     "name": "stdout",
     "output_type": "stream",
     "text": [
      "['2', '2', '4']\n"
     ]
    }
   ],
   "source": [
    "# \\d\n",
    "str = \"2 million monthly visits in Aug'24,\"\n",
    "x = re.findall(\"\\d\",str)\n",
    "print(x)"
   ]
  },
  {
   "cell_type": "code",
   "execution_count": 24,
   "id": "abd9bda1-4ed9-4a2f-9549-c2976df86221",
   "metadata": {},
   "outputs": [
    {
     "name": "stdout",
     "output_type": "stream",
     "text": [
      "['2', '24']\n"
     ]
    }
   ],
   "source": [
    "# \\d\n",
    "str = \"2 million monthly visits in Aug'24,\"\n",
    "x = re.findall(\"\\d+\",str)\n",
    "print(x)"
   ]
  },
  {
   "cell_type": "code",
   "execution_count": 26,
   "id": "0524d752-33d9-4f20-993f-b55b3735e17f",
   "metadata": {},
   "outputs": [
    {
     "name": "stdout",
     "output_type": "stream",
     "text": [
      "['2', 'm', 'i', 'l', 'l', 'i', 'o', 'n', 'm', 'o', 'n', 't', 'h', 'l', 'y', 'v', 'i', 's', 'i', 't', 's', 'i', 'n', 'A', 'u', 'g', '2', '4']\n"
     ]
    }
   ],
   "source": [
    "# \\w\n",
    "str = \"2 million monthly visits in Aug'24,\"\n",
    "x = re.findall(\"\\w\",str)\n",
    "print(x)"
   ]
  },
  {
   "cell_type": "code",
   "execution_count": 27,
   "id": "bc69571c-8f9b-48f0-9b8d-1b2f47a9c22c",
   "metadata": {},
   "outputs": [
    {
     "name": "stdout",
     "output_type": "stream",
     "text": [
      "['2', 'million', 'monthly', 'visits', 'in', 'Aug', '24']\n"
     ]
    }
   ],
   "source": [
    "str = \"2 million monthly visits in Aug'24,\"\n",
    "x = re.findall(\"\\w+\",str)\n",
    "print(x)"
   ]
  },
  {
   "cell_type": "code",
   "execution_count": 31,
   "id": "5e4055d4-2bf9-40c8-b76e-cb0d1d7c11b3",
   "metadata": {},
   "outputs": [
    {
     "name": "stdout",
     "output_type": "stream",
     "text": [
      "['roh', 'roh']\n"
     ]
    }
   ],
   "source": [
    "# (.)\n",
    "str = \"rohan and rohit recently published a research paper!\"\n",
    "x = re.findall(\"ro.\", str)\n",
    "print(x)"
   ]
  },
  {
   "cell_type": "code",
   "execution_count": 32,
   "id": "bcf4fd4e-c8db-46c7-aa82-dacc69d684b0",
   "metadata": {},
   "outputs": [
    {
     "name": "stdout",
     "output_type": "stream",
     "text": [
      "['rohan', 'rohit']\n"
     ]
    }
   ],
   "source": [
    "x = re.findall(\"ro...\", str)\n",
    "print(x)"
   ]
  },
  {
   "cell_type": "code",
   "execution_count": 35,
   "id": "60541ab9-85b7-4b3a-95b8-fe91980b8f62",
   "metadata": {},
   "outputs": [
    {
     "name": "stdout",
     "output_type": "stream",
     "text": [
      "['Data']\n"
     ]
    }
   ],
   "source": [
    "# (^)\n",
    "str = \"Data Science Data\"\n",
    "x = re.findall('^Data', str)\n",
    "print(x)"
   ]
  },
  {
   "cell_type": "code",
   "execution_count": 37,
   "id": "d0dab1d5-b9ca-46a5-92f5-5ee07740713e",
   "metadata": {},
   "outputs": [
    {
     "name": "stdout",
     "output_type": "stream",
     "text": [
      "yes the string starts with 'Data'\n"
     ]
    }
   ],
   "source": [
    "x = re.findall('^Data', str)\n",
    "if(x):\n",
    "    print(\"yes the string starts with 'Data'\")\n",
    "else:\n",
    "    print(\"No match\")"
   ]
  },
  {
   "cell_type": "code",
   "execution_count": 38,
   "id": "e3a197cb-ae52-40d5-b3b8-77a48422ddca",
   "metadata": {},
   "outputs": [
    {
     "name": "stdout",
     "output_type": "stream",
     "text": [
      "No match\n"
     ]
    }
   ],
   "source": [
    "str = 'Big Data'\n",
    "x = re.findall('^Data', str)\n",
    "if(x):\n",
    "    print(\"yes the string starts with 'Data'\")\n",
    "else:\n",
    "    print(\"No match\")"
   ]
  },
  {
   "cell_type": "code",
   "execution_count": 40,
   "id": "cd1acc07-2639-4fc5-87c8-0a841a007e11",
   "metadata": {},
   "outputs": [
    {
     "name": "stdout",
     "output_type": "stream",
     "text": [
      "No match\n"
     ]
    }
   ],
   "source": [
    "# ($)\n",
    "str = \"Data Science big\"\n",
    "x = re.findall('Science$', str)\n",
    "if(x):\n",
    "    print(\"yes the string ends with 'Science'\")\n",
    "else:\n",
    "    print(\"No match\")"
   ]
  },
  {
   "cell_type": "code",
   "execution_count": 44,
   "id": "b2e8b9c8-c3f3-4478-8fd5-184a79ddd2c7",
   "metadata": {},
   "outputs": [
    {
     "name": "stdout",
     "output_type": "stream",
     "text": [
      "['Science', 'Science']\n"
     ]
    }
   ],
   "source": [
    "# (*)\n",
    "str = \"Data Science big Science\"\n",
    "x = re.findall('Science*', str)\n",
    "print(x)"
   ]
  },
  {
   "cell_type": "code",
   "execution_count": 47,
   "id": "a03de61a-e1eb-4ba0-a40e-a41b3df9dd0f",
   "metadata": {},
   "outputs": [
    {
     "name": "stdout",
     "output_type": "stream",
     "text": [
      "['easy', 'easssy', 'eay']\n"
     ]
    }
   ],
   "source": [
    "# (*)\n",
    "str = \"easy easssy eay eaty\"\n",
    "x = re.findall('eas*y', str)\n",
    "print(x)"
   ]
  },
  {
   "cell_type": "code",
   "execution_count": 50,
   "id": "2a4b86cf-c396-453c-897f-d9c26e61ce06",
   "metadata": {},
   "outputs": [
    {
     "name": "stdout",
     "output_type": "stream",
     "text": [
      " AV a Data Science community  AV  \n"
     ]
    }
   ],
   "source": [
    "str = \"@AV a Data Science community #AV!!\"\n",
    "x = re.sub(r'\\W', ' ', str)\n",
    "print(x)"
   ]
  },
  {
   "cell_type": "code",
   "execution_count": 52,
   "id": "c8a5a74b-81b8-4dd5-954c-91ad58aa2f0a",
   "metadata": {},
   "outputs": [
    {
     "name": "stdout",
     "output_type": "stream",
     "text": [
      " AV a Data Science community  AV  \n"
     ]
    }
   ],
   "source": [
    "x = re.sub(\"[^a-zA-Z]\",\" \", str)\n",
    "print(x)"
   ]
  },
  {
   "cell_type": "code",
   "execution_count": 57,
   "id": "0f34fc32-1a45-4700-9e66-7d804ab2aaae",
   "metadata": {},
   "outputs": [
    {
     "name": "stdout",
     "output_type": "stream",
     "text": [
      "['sundara.1234@gmail.com', 'rohan.98@gmail.com', 'smith_david32@yahoo.com', 'priya@yahoo.com']\n"
     ]
    }
   ],
   "source": [
    "str = 'send a mail to sundara.1234@gmail.com, rohan.98@gmail.com, smith_david32@yahoo.com and priya@yahoo.com about the meeting at learnbay'\n",
    "x = re.findall(r'[a-zA-Z0-9._-]+@\\w+\\.com', str)\n",
    "print(x)"
   ]
  },
  {
   "cell_type": "code",
   "execution_count": null,
   "id": "0e6462a3-7ca4-47ff-bf29-8c96db8d3b95",
   "metadata": {},
   "outputs": [],
   "source": []
  }
 ],
 "metadata": {
  "kernelspec": {
   "display_name": "Python 3 (ipykernel)",
   "language": "python",
   "name": "python3"
  },
  "language_info": {
   "codemirror_mode": {
    "name": "ipython",
    "version": 3
   },
   "file_extension": ".py",
   "mimetype": "text/x-python",
   "name": "python",
   "nbconvert_exporter": "python",
   "pygments_lexer": "ipython3",
   "version": "3.11.7"
  }
 },
 "nbformat": 4,
 "nbformat_minor": 5
}
